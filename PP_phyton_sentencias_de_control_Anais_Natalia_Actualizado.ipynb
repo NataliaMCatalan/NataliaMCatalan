{
 "cells": [
  {
   "cell_type": "code",
   "execution_count": null,
   "metadata": {},
   "outputs": [],
   "source": [
    "#1\n",
    "- Below 25 - F\n",
    "- 25 to 45 - E\n",
    "- 45 to 50 - D\n",
    "- 50 to 60 - C\n",
    "- 60 to 80 - B\n",
    "- Above 80 - A"
   ]
  },
  {
   "cell_type": "code",
   "execution_count": 15,
   "metadata": {},
   "outputs": [],
   "source": [
    "consulta_notas= \"Notas\"\n",
    "pregunta= \"¿Que nota has sacado?\""
   ]
  },
  {
   "cell_type": "code",
   "execution_count": 42,
   "metadata": {},
   "outputs": [],
   "source": [
    "respuesta= int(input())"
   ]
  },
  {
   "cell_type": "code",
   "execution_count": 43,
   "metadata": {},
   "outputs": [
    {
     "name": "stdout",
     "output_type": "stream",
     "text": [
      "E\n"
     ]
    }
   ],
   "source": [
    "if respuesta <25:\n",
    "    print(\"F\")\n",
    "elif 25<= respuesta <45:\n",
    "    print(\"E\")\n",
    "elif 45<= respuesta <50:\n",
    "    print(\"D\")\n",
    "elif 50<= respuesta <60:\n",
    "    print(\"C\")\n",
    "elif 60<= respuesta <80:\n",
    "    print(\"B\")\n",
    "elif respuesta >=80:\n",
    "    print(\"A\")\n"
   ]
  },
  {
   "cell_type": "code",
   "execution_count": 55,
   "metadata": {},
   "outputs": [
    {
     "name": "stdout",
     "output_type": "stream",
     "text": [
      "¿Que edad tienes?\n",
      "20 30 40\n"
     ]
    }
   ],
   "source": [
    "#2\n",
    "pregunta= \"¿Que edad tienes?\"\n",
    "persona1= int(input())\n",
    "persona2= int(input())\n",
    "persona3= int(input())\n",
    "\n",
    "print (pregunta)\n",
    "print (persona1, persona2,persona3)"
   ]
  },
  {
   "cell_type": "code",
   "execution_count": 56,
   "metadata": {},
   "outputs": [
    {
     "name": "stdout",
     "output_type": "stream",
     "text": [
      "persona3 eres el mayor\n",
      "persona1 eres el menor\n"
     ]
    }
   ],
   "source": [
    "#persona1= int(input())\n",
    "#persona2= int(input())\n",
    "#persona3= int(input())\n",
    "\n",
    "if persona1 > persona2 and persona3:\n",
    "    print(\"persona1 eres el mayor\")\n",
    "elif persona2> persona3 and persona1:\n",
    "    print(\"persona2 eres el mayor\")\n",
    "elif persona3> persona2 and persona1:\n",
    "    print(\"persona3 eres el mayor\")\n",
    "    \n",
    "if persona1< persona2 and persona3:\n",
    "    print(\"persona1 eres el menor\")\n",
    "elif persona2< persona3 and persona1:\n",
    "    print(\"persona2 eres el menorr\")\n",
    "elif persona3< persona2 and persona1:\n",
    "    print(\"persona3 eres el menor\")   "
   ]
  },
  {
   "cell_type": "code",
   "execution_count": 58,
   "metadata": {},
   "outputs": [
    {
     "name": "stdout",
     "output_type": "stream",
     "text": [
      "¿Cuál es tu nombre?\n",
      "Anais\n",
      "Buenos dias Anais\n"
     ]
    }
   ],
   "source": [
    "#3\n",
    "\n",
    "pregunta= \"¿Cuál es tu nombre?\"\n",
    "print(pregunta)\n",
    "\n",
    "respuesta= input()\n",
    "print (respuesta)\n",
    "\n",
    "if respuesta==\"Bond\":\n",
    "    print (\"Bienvenido a bordo de 007\")\n",
    "else:\n",
    "    print(\"Buenos dias\", respuesta)    "
   ]
  },
  {
   "cell_type": "code",
   "execution_count": 55,
   "metadata": {},
   "outputs": [
    {
     "name": "stdout",
     "output_type": "stream",
     "text": [
      "['Taiwan', 'Japan', 'Russia', 'Canada', 'Bulgaria']\n"
     ]
    }
   ],
   "source": [
    "#3\n",
    "\n",
    "# el nombre de los países con más de 20.000 árboles por kilómetro cuadrado\n",
    "\n",
    "arboles = {\"Taiwan\":69593,\n",
    "           \"Japan\":49894, \n",
    "           \"Russia\":41396, \n",
    "           \"Canada\":36388, \n",
    "           \"Bulgaria\":24987}\n",
    "\n",
    "masarboles=[]\n",
    "\n",
    "for datosPaises, datosArboles in arboles.items():\n",
    "        if (datosArboles > 20000):\n",
    "                masarboles.append(datosPaises)\n",
    "                \n",
    "print(masarboles) "
   ]
  }
 ],
 "metadata": {
  "kernelspec": {
   "display_name": "Python 3.8.10 64-bit",
   "language": "python",
   "name": "python3"
  },
  "language_info": {
   "codemirror_mode": {
    "name": "ipython",
    "version": 3
   },
   "file_extension": ".py",
   "mimetype": "text/x-python",
   "name": "python",
   "nbconvert_exporter": "python",
   "pygments_lexer": "ipython3",
   "version": "3.8.10"
  },
  "orig_nbformat": 4,
  "vscode": {
   "interpreter": {
    "hash": "31f2aee4e71d21fbe5cf8b01ff0e069b9275f58929596ceb00d14d90e3e16cd6"
   }
  }
 },
 "nbformat": 4,
 "nbformat_minor": 2
}
