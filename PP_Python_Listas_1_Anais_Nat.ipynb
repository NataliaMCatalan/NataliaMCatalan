{
 "cells": [
  {
   "cell_type": "code",
   "execution_count": 1,
   "metadata": {},
   "outputs": [
    {
     "ename": "NameError",
     "evalue": "name 'lim_inferior' is not defined",
     "output_type": "error",
     "traceback": [
      "\u001b[0;31m---------------------------------------------------------------------------\u001b[0m",
      "\u001b[0;31mNameError\u001b[0m                                 Traceback (most recent call last)",
      "\u001b[1;32m/home/adalaber/Documentos/adalab/modulo-1/Da-promoB-Modulo-1-Sprint-1-Anais-Natalia/PYTHON/PP_Python_Listas_1_Anais_Nat.ipynb Celda 1\u001b[0m in \u001b[0;36m<cell line: 12>\u001b[0;34m()\u001b[0m\n\u001b[1;32m      <a href='vscode-notebook-cell:/home/adalaber/Documentos/adalab/modulo-1/Da-promoB-Modulo-1-Sprint-1-Anais-Natalia/PYTHON/PP_Python_Listas_1_Anais_Nat.ipynb#ch0000000?line=8'>9</a>\u001b[0m num_list \u001b[39m=\u001b[39m \u001b[39mlist\u001b[39m(\u001b[39mint\u001b[39m(num) \u001b[39mfor\u001b[39;00m num \u001b[39min\u001b[39;00m \u001b[39minput\u001b[39m(str_input)\u001b[39m.\u001b[39mstrip()\u001b[39m.\u001b[39msplit())\n\u001b[1;32m     <a href='vscode-notebook-cell:/home/adalaber/Documentos/adalab/modulo-1/Da-promoB-Modulo-1-Sprint-1-Anais-Natalia/PYTHON/PP_Python_Listas_1_Anais_Nat.ipynb#ch0000000?line=10'>11</a>\u001b[0m \u001b[39m# Cantidades calculadas\u001b[39;00m\n\u001b[0;32m---> <a href='vscode-notebook-cell:/home/adalaber/Documentos/adalab/modulo-1/Da-promoB-Modulo-1-Sprint-1-Anais-Natalia/PYTHON/PP_Python_Listas_1_Anais_Nat.ipynb#ch0000000?line=11'>12</a>\u001b[0m numero_secreto \u001b[39m=\u001b[39m random\u001b[39m.\u001b[39mrandint(lim_inferior,lim_superior)\n",
      "\u001b[0;31mNameError\u001b[0m: name 'lim_inferior' is not defined"
     ]
    }
   ],
   "source": [
    "import random\n",
    "\n",
    "# Variables numéricas\n",
    "\n",
    "# Cadenas fijas de texto\n",
    "str_input = \"Lista de números, separado por espacios: \"\n",
    "\n",
    "# User input\n",
    "num_list = list(int(num) for num in input(str_input).strip().split())\n",
    "\n",
    "# Cantidades calculadas\n",
    "numero_secreto = random.randint(lim_inferior,lim_superior)\n",
    "\n",
    "# Inicio del juego\n",
    "\n",
    "# Propiedades de la lista\n",
    "\n",
    "# Han adivinado el número secreto?\n",
    "\n",
    "# Fin del juego"
   ]
  },
  {
   "cell_type": "code",
   "execution_count": 2,
   "metadata": {},
   "outputs": [],
   "source": [
    "import random"
   ]
  },
  {
   "cell_type": "code",
   "execution_count": 3,
   "metadata": {},
   "outputs": [],
   "source": [
    "lim_inferior = 5\n",
    "lim_superior = 37\n"
   ]
  },
  {
   "cell_type": "code",
   "execution_count": 4,
   "metadata": {},
   "outputs": [
    {
     "name": "stdout",
     "output_type": "stream",
     "text": [
      "Comenzamos el juego\n"
     ]
    }
   ],
   "source": [
    "Bienvenida= \"Comenzamos el juego\"\n",
    "print (Bienvenida)"
   ]
  },
  {
   "cell_type": "code",
   "execution_count": null,
   "metadata": {},
   "outputs": [],
   "source": [
    "lista= \"La lista facilitada por el usuario es: [5, 13, 18, 12, 4, 37]\"\n",
    "print (lista)"
   ]
  },
  {
   "cell_type": "code",
   "execution_count": null,
   "metadata": {},
   "outputs": [],
   "source": [
    "elementos= \"Tiene 6 elementos entre 4 a 37.\"\n",
    "print (elementos)"
   ]
  },
  {
   "cell_type": "code",
   "execution_count": 6,
   "metadata": {},
   "outputs": [],
   "source": [
    "str_input = \"Lista de números, separado por espacios: \"\n",
    "num_list = list(int(num) for num in input(str_input).strip().split())"
   ]
  },
  {
   "cell_type": "code",
   "execution_count": 7,
   "metadata": {},
   "outputs": [],
   "source": [
    "numero_secreto = random.randint(lim_inferior,lim_superior)\n"
   ]
  },
  {
   "cell_type": "code",
   "execution_count": 8,
   "metadata": {},
   "outputs": [
    {
     "data": {
      "text/plain": [
       "1"
      ]
     },
     "execution_count": 8,
     "metadata": {},
     "output_type": "execute_result"
    }
   ],
   "source": [
    "len (num_list)"
   ]
  },
  {
   "cell_type": "code",
   "execution_count": 9,
   "metadata": {},
   "outputs": [
    {
     "name": "stdout",
     "output_type": "stream",
     "text": [
      "[13]\n"
     ]
    }
   ],
   "source": [
    "print(num_list)"
   ]
  },
  {
   "cell_type": "code",
   "execution_count": 10,
   "metadata": {},
   "outputs": [
    {
     "name": "stdout",
     "output_type": "stream",
     "text": [
      "19\n"
     ]
    }
   ],
   "source": [
    "print(numero_secreto)"
   ]
  },
  {
   "cell_type": "code",
   "execution_count": 11,
   "metadata": {},
   "outputs": [
    {
     "name": "stdout",
     "output_type": "stream",
     "text": [
      "False\n"
     ]
    }
   ],
   "source": [
    "resultado = numero_secreto in num_list\n",
    "print(resultado)"
   ]
  },
  {
   "cell_type": "code",
   "execution_count": null,
   "metadata": {},
   "outputs": [],
   "source": [
    "despedida= \"-- Terminamos el juego. El número era 36. --\"\n",
    "print (despedida)"
   ]
  }
 ],
 "metadata": {
  "kernelspec": {
   "display_name": "Python 3.8.10 64-bit",
   "language": "python",
   "name": "python3"
  },
  "language_info": {
   "codemirror_mode": {
    "name": "ipython",
    "version": 3
   },
   "file_extension": ".py",
   "mimetype": "text/x-python",
   "name": "python",
   "nbconvert_exporter": "python",
   "pygments_lexer": "ipython3",
   "version": "3.8.10"
  },
  "orig_nbformat": 4,
  "vscode": {
   "interpreter": {
    "hash": "31f2aee4e71d21fbe5cf8b01ff0e069b9275f58929596ceb00d14d90e3e16cd6"
   }
  }
 },
 "nbformat": 4,
 "nbformat_minor": 2
}
