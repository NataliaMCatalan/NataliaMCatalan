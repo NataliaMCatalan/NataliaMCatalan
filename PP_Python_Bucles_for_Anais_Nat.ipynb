{
 "cells": [
  {
   "cell_type": "code",
   "execution_count": 37,
   "metadata": {},
   "outputs": [
    {
     "name": "stdout",
     "output_type": "stream",
     "text": [
      "¿Que cantidad quieres invertir?\n",
      "5000\n",
      "¿Que interes anual quieres?\n",
      "['5%', '10%', '15%']\n",
      "¿Durante cuántos años? 2, 3, 4\n",
      "3\n",
      "El capital calculado para el año:  1  con sus intereses es:  5250.0\n",
      "El capital calculado para el año:  2  con sus intereses es:  5512.5\n",
      "El capital calculado para el año:  3  con sus intereses es:  5788.125\n"
     ]
    }
   ],
   "source": [
    "#Primer ejercicio\n",
    "\n",
    "p_inversion= \"¿Que cantidad quieres invertir?\"\n",
    "print(p_inversion)\n",
    "\n",
    "r_inversion= input()\n",
    "print(r_inversion)\n",
    "\n",
    "p_interes= \"¿Que interes anual quieres?\"\n",
    "print(p_interes)\n",
    "\n",
    "intereses= ['5%','10%','15%']\n",
    "print(intereses)\n",
    "\n",
    "r_interes= input()\n",
    "\n",
    "p_años= \"¿Durante cuántos años? 2, 3, 4\"\n",
    "print(p_años)\n",
    "\n",
    "r_años= input()\n",
    "print(r_años)\n",
    "\n",
    "capitalCalculado = r_inversion\n",
    "porcentajeUsuario = int(r_interes)/100\n",
    "porcentajeFinal = 1 + porcentajeUsuario \n",
    "\n",
    "for iterando_año in range(int(r_años)): \n",
    "     \n",
    "    capitalCalculado = float(capitalCalculado) * float(porcentajeFinal)\n",
    "    \n",
    "    print(\"El capital calculado para el año: \", iterando_año+1, \" con sus intereses es: \", capitalCalculado)\n",
    "    \n",
    "\n"
   ]
  },
  {
   "cell_type": "code",
   "execution_count": 2,
   "metadata": {},
   "outputs": [
    {
     "name": "stdout",
     "output_type": "stream",
     "text": [
      "¡hola, dime una frase!\n",
      "buenos dias\n",
      "ahora dime una letra\n",
      "a\n"
     ]
    }
   ],
   "source": [
    "#Segundo ejercicio\n",
    "#Escribid un programa en el que se pregunte al usuario por una frase y una letra, \n",
    "# y muestre por pantalla el número de veces que aparece la letra en la frase.\n",
    "\n",
    "pregunta_frase= \"¡hola, dime una frase!\"\n",
    "print(pregunta_frase)\n",
    "respuesta_frase= input()\n",
    "print (respuesta_frase)\n",
    "pregunta_letra= \"ahora dime una letra\"\n",
    "print (pregunta_letra)\n",
    "respuesta_letra= input()\n",
    "print (respuesta_letra)"
   ]
  },
  {
   "cell_type": "code",
   "execution_count": 42,
   "metadata": {},
   "outputs": [
    {
     "name": "stdout",
     "output_type": "stream",
     "text": [
      "1\n"
     ]
    }
   ],
   "source": [
    "#for letra in frase count int (\"a\"):\n",
    "#print(count)\n",
    "\n",
    "respuesta_frase = 'buenos dias'    \n",
    "count = 0\n",
    "for letra in respuesta_frase:\n",
    "    if letra == \"a\":\n",
    "        count = count + 1\n",
    "print(count)\n",
    "   "
   ]
  },
  {
   "cell_type": "code",
   "execution_count": null,
   "metadata": {},
   "outputs": [],
   "source": []
  }
 ],
 "metadata": {
  "kernelspec": {
   "display_name": "Python 3.9.7 ('base')",
   "language": "python",
   "name": "python3"
  },
  "language_info": {
   "codemirror_mode": {
    "name": "ipython",
    "version": 3
   },
   "file_extension": ".py",
   "mimetype": "text/x-python",
   "name": "python",
   "nbconvert_exporter": "python",
   "pygments_lexer": "ipython3",
   "version": "3.9.7"
  },
  "orig_nbformat": 4,
  "vscode": {
   "interpreter": {
    "hash": "0620710c65b0f5ccc651a2aa8870ae0eb4c70492424a8d7866846658189426a3"
   }
  }
 },
 "nbformat": 4,
 "nbformat_minor": 2
}
