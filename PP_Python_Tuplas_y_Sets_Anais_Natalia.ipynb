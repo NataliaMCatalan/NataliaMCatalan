{
 "cells": [
  {
   "cell_type": "code",
   "execution_count": null,
   "metadata": {},
   "outputs": [],
   "source": [
    "# Variables predefinidas\n",
    "\n",
    "# Definir el tablero con todo \"-\"\n",
    "\n",
    "# Inicio del juego\n",
    "\n",
    "# Imprimir tablero\n",
    "\n",
    "# Input de la usuaria\n",
    "\n",
    "\n",
    "coor = tuple(int(num)-1 for num in coor.split(\",\"))\n",
    "\n",
    "# Actualizar tablero\n",
    "\n",
    "# Imprimir tablero\n",
    "\n",
    "# Input del usuario\n",
    "\n",
    "\n",
    "coor = tuple(int(co)-1 for co in coor.split(\",\"))\n",
    "\n",
    "# Actualizar tablero\n",
    "\n",
    "# Imprimir tablero\n",
    "\n",
    "# Convertir los caracteres del board a una sola lista\n",
    "board_list = sum(board,[])\n",
    "\n",
    "# Sacar los elementos únicos que no sean \"-\"\n",
    "\n",
    "# Final del juego"
   ]
  },
  {
   "cell_type": "code",
   "execution_count": 167,
   "metadata": {},
   "outputs": [],
   "source": [
    "Bienvenida= \"¡Comenzamos el juego!\"\n",
    "Fin= \"Terminamos el juego, los 2 jugadores que han participado son {'x', 'o'}\""
   ]
  },
  {
   "cell_type": "code",
   "execution_count": 186,
   "metadata": {},
   "outputs": [],
   "source": [
    "lista1= [\"-\",\"-\",\"-\"]\n",
    "lista2= [\"-\",\"-\",\"-\"]\n",
    "lista3= [\"-\",\"-\",\"-\"]"
   ]
  },
  {
   "cell_type": "code",
   "execution_count": 187,
   "metadata": {},
   "outputs": [],
   "source": [
    "tablero= [lista1,lista2,lista3]"
   ]
  },
  {
   "cell_type": "code",
   "execution_count": 170,
   "metadata": {},
   "outputs": [
    {
     "data": {
      "text/plain": [
       "'¡Comenzamos el juego!'"
      ]
     },
     "execution_count": 170,
     "metadata": {},
     "output_type": "execute_result"
    }
   ],
   "source": [
    "Bienvenida"
   ]
  },
  {
   "cell_type": "code",
   "execution_count": 188,
   "metadata": {},
   "outputs": [
    {
     "data": {
      "text/plain": [
       "[['-', '-', '-'], ['-', '-', '-'], ['-', '-', '-']]"
      ]
     },
     "execution_count": 188,
     "metadata": {},
     "output_type": "execute_result"
    }
   ],
   "source": [
    "tablero"
   ]
  },
  {
   "cell_type": "code",
   "execution_count": 172,
   "metadata": {},
   "outputs": [],
   "source": [
    "x = input(\"mete las coordenadas\")"
   ]
  },
  {
   "cell_type": "code",
   "execution_count": 128,
   "metadata": {},
   "outputs": [
    {
     "name": "stdout",
     "output_type": "stream",
     "text": [
      "la usuaria dio el input: x 2,3\n"
     ]
    }
   ],
   "source": [
    "print (\"la usuaria dio el input:\", x)"
   ]
  },
  {
   "cell_type": "code",
   "execution_count": 173,
   "metadata": {},
   "outputs": [
    {
     "data": {
      "text/plain": [
       "['x', '2,3']"
      ]
     },
     "execution_count": 173,
     "metadata": {},
     "output_type": "execute_result"
    }
   ],
   "source": [
    "x.split()\n"
   ]
  },
  {
   "cell_type": "code",
   "execution_count": 174,
   "metadata": {},
   "outputs": [
    {
     "name": "stdout",
     "output_type": "stream",
     "text": [
      "x\n"
     ]
    }
   ],
   "source": [
    "ficha = x.split()[0]\n",
    "print(ficha)"
   ]
  },
  {
   "cell_type": "code",
   "execution_count": 175,
   "metadata": {},
   "outputs": [
    {
     "name": "stdout",
     "output_type": "stream",
     "text": [
      "3\n"
     ]
    }
   ],
   "source": [
    "columna1 = int(x.split(\",\")[1])\n",
    "print(columna1)"
   ]
  },
  {
   "cell_type": "code",
   "execution_count": 176,
   "metadata": {},
   "outputs": [
    {
     "name": "stdout",
     "output_type": "stream",
     "text": [
      "2\n"
     ]
    }
   ],
   "source": [
    "fila1 = int(x.split()[-1].split(\",\")[0])\n",
    "print(fila1)"
   ]
  },
  {
   "cell_type": "code",
   "execution_count": 189,
   "metadata": {},
   "outputs": [
    {
     "data": {
      "text/plain": [
       "[['-', '-', '-'], ['-', '-', '-'], ['-', 'x', '-']]"
      ]
     },
     "execution_count": 189,
     "metadata": {},
     "output_type": "execute_result"
    }
   ],
   "source": [
    "tablero[2][1] = \"x\"\n",
    "tablero"
   ]
  },
  {
   "cell_type": "code",
   "execution_count": 178,
   "metadata": {},
   "outputs": [],
   "source": [
    "o = input(\"mete las coordenadas\")"
   ]
  },
  {
   "cell_type": "code",
   "execution_count": 179,
   "metadata": {},
   "outputs": [
    {
     "name": "stdout",
     "output_type": "stream",
     "text": [
      "la usuaria dio el input: o 2,2\n"
     ]
    }
   ],
   "source": [
    "print (\"la usuaria dio el input:\", o)"
   ]
  },
  {
   "cell_type": "code",
   "execution_count": 180,
   "metadata": {},
   "outputs": [
    {
     "data": {
      "text/plain": [
       "['o', '2,2']"
      ]
     },
     "execution_count": 180,
     "metadata": {},
     "output_type": "execute_result"
    }
   ],
   "source": [
    "o.split()"
   ]
  },
  {
   "cell_type": "code",
   "execution_count": 181,
   "metadata": {},
   "outputs": [
    {
     "name": "stdout",
     "output_type": "stream",
     "text": [
      "o\n"
     ]
    }
   ],
   "source": [
    "ficha = o.split()[0]\n",
    "print(ficha)"
   ]
  },
  {
   "cell_type": "code",
   "execution_count": 182,
   "metadata": {},
   "outputs": [
    {
     "name": "stdout",
     "output_type": "stream",
     "text": [
      "2\n"
     ]
    }
   ],
   "source": [
    "columna2 = int(o.split(\",\")[-1])\n",
    "print (columna2)"
   ]
  },
  {
   "cell_type": "code",
   "execution_count": 183,
   "metadata": {},
   "outputs": [
    {
     "name": "stdout",
     "output_type": "stream",
     "text": [
      "2\n"
     ]
    }
   ],
   "source": [
    "fila2 = int(o.split()[-1].split(\",\")[0])\n",
    "print (columna2)"
   ]
  },
  {
   "cell_type": "code",
   "execution_count": 190,
   "metadata": {},
   "outputs": [
    {
     "data": {
      "text/plain": [
       "[['-', '-', '-'], ['-', 'o', '-'], ['-', 'x', '-']]"
      ]
     },
     "execution_count": 190,
     "metadata": {},
     "output_type": "execute_result"
    }
   ],
   "source": [
    "tablero[1][1] = \"o\"\n",
    "tablero"
   ]
  },
  {
   "cell_type": "code",
   "execution_count": 163,
   "metadata": {},
   "outputs": [],
   "source": [
    "lista1.remove(\"-\")\n",
    "lista2.remove(\"-\")\n",
    "lista3.remove(\"-\")"
   ]
  },
  {
   "cell_type": "code",
   "execution_count": 191,
   "metadata": {},
   "outputs": [
    {
     "data": {
      "text/plain": [
       "[['-', '-', '-'], ['-', 'o', '-'], ['-', 'x', '-']]"
      ]
     },
     "execution_count": 191,
     "metadata": {},
     "output_type": "execute_result"
    }
   ],
   "source": [
    "tablero"
   ]
  },
  {
   "cell_type": "code",
   "execution_count": 155,
   "metadata": {},
   "outputs": [
    {
     "data": {
      "text/plain": [
       "\"Terminamos el juego, los 2 jugadores que han participado son {'x', 'o'}\""
      ]
     },
     "execution_count": 155,
     "metadata": {},
     "output_type": "execute_result"
    }
   ],
   "source": [
    "Fin"
   ]
  }
 ],
 "metadata": {
  "kernelspec": {
   "display_name": "Python 3.8.10 64-bit",
   "language": "python",
   "name": "python3"
  },
  "language_info": {
   "codemirror_mode": {
    "name": "ipython",
    "version": 3
   },
   "file_extension": ".py",
   "mimetype": "text/x-python",
   "name": "python",
   "nbconvert_exporter": "python",
   "pygments_lexer": "ipython3",
   "version": "3.8.10"
  },
  "orig_nbformat": 4,
  "vscode": {
   "interpreter": {
    "hash": "31f2aee4e71d21fbe5cf8b01ff0e069b9275f58929596ceb00d14d90e3e16cd6"
   }
  }
 },
 "nbformat": 4,
 "nbformat_minor": 2
}
